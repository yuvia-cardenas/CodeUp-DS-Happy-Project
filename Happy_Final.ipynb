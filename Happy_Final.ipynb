{
 "cells": [
  {
   "cell_type": "markdown",
   "id": "eb62ab60",
   "metadata": {},
   "source": [
    "# Happy Life"
   ]
  },
  {
   "cell_type": "markdown",
   "id": "0ea4ecaa",
   "metadata": {},
   "source": [
    "#### Project Mission\n",
    "* This project is based on the World Happiness Report.\n",
    "* The World Happiness Report is a survey that asks people to rate their happiness on a scale based on questions using a scale from 1-10.\n",
    "* My goal is to use the features from the data gathered to create a model that can effectly predict Happiness.  "
   ]
  },
  {
   "cell_type": "markdown",
   "id": "93273a92",
   "metadata": {},
   "source": [
    "### Imports"
   ]
  },
  {
   "cell_type": "code",
   "execution_count": 1,
   "id": "25f11603",
   "metadata": {},
   "outputs": [],
   "source": [
    "import warnings\n",
    "warnings.filterwarnings(\"ignore\")\n",
    "\n",
    "import pandas as pd\n",
    "import numpy as np\n",
    "import os\n",
    "import wrangle_happy as wh\n",
    "import explore_happy as eh\n",
    "import model_happy as mh\n",
    "import matplotlib.pyplot as plt\n",
    "import seaborn as sns\n",
    "from sklearn.metrics import mean_squared_error, r2_score, explained_variance_score"
   ]
  },
  {
   "cell_type": "markdown",
   "id": "a930224f",
   "metadata": {},
   "source": [
    "### Acquire Data\n",
    "\n",
    "* Data acquired from Kaggle database\n",
    "* Data set contained 782 rows and 9 columns after cleaning\n",
    "* Each row represents a Country\n",
    "* Each column represents a feature of the Survey"
   ]
  },
  {
   "cell_type": "code",
   "execution_count": 2,
   "id": "cb83fc45",
   "metadata": {},
   "outputs": [],
   "source": [
    "# acquiring Happy data\n",
    "df_2015, df_2016, df_2017, df_2018, df_2019 = wh.wrangle_happi()"
   ]
  },
  {
   "cell_type": "markdown",
   "id": "d03ac3d5",
   "metadata": {},
   "source": [
    "### Prepare Data\n",
    "\n",
    "#### Actions:\n",
    "\n",
    "* Removed columns that did not contain useful information\n",
    "* Renamed columns to promote readability and allow for concatenation\n",
    "* Removed nulls in the data \n",
    "* Concatenated 5 dataframes to make 1 master dataframe \n",
    "* Split data into train, validate and test (approx. 56/24/20)"
   ]
  },
  {
   "cell_type": "code",
   "execution_count": 3,
   "id": "d9de4b63",
   "metadata": {},
   "outputs": [],
   "source": [
    "# preparing Happy data\n",
    "happy_df = wh.join_happy(df_2015, df_2016, df_2017, df_2018, df_2019)"
   ]
  },
  {
   "cell_type": "code",
   "execution_count": 4,
   "id": "796ebb5e",
   "metadata": {},
   "outputs": [],
   "source": [
    "# splitting Happy data\n",
    "train, validate, test = mh.split_data(happy_df)"
   ]
  },
  {
   "cell_type": "markdown",
   "id": "f0393395",
   "metadata": {},
   "source": [
    "### Data Dictionary"
   ]
  },
  {
   "cell_type": "markdown",
   "id": "662f13b7",
   "metadata": {},
   "source": [
    "| Feature | Definition | Type |\n",
    "|:--------|:-----------|:-------\n",
    "|**Country**|  Name of the Country | *obj*|\n",
    "|**Happiness_Rank** |  Rank of the country based on the score |*int*|\n",
    "|**Economy (GDP per Capita)**| The extent to which GDP contributes to the calculation | *float*|\n",
    "|**Health (Life Expectancy)**| The extent to which Life expectancy contributed to the calculation | *float*|\n",
    "|**Freedom to make life choices**| The extent to which Freedom contributed to the calculation | *float*|\n",
    "|**Perceptions of Corruption in Gov**| The extent to which Perception of Corruption contributes to score | *float*|\n",
    "|**Generosity**|  The extent to which Generosity contributed to the calculation | *float*|\n",
    "|**Year**| Year data was assembled | *int*|\n",
    "|**Happiness_Score** | A metric measured by asking the sampled people \"How would you rate your happiness?\"  |*float*|"
   ]
  },
  {
   "cell_type": "code",
   "execution_count": 5,
   "id": "c60b06e5",
   "metadata": {},
   "outputs": [],
   "source": [
    "# ready for exploration and modeling\n",
    "x_train, y_train, x_validate, y_validate, x_test, y_test = mh.model_sets(train, validate, test)"
   ]
  },
  {
   "cell_type": "markdown",
   "id": "7859a1a0",
   "metadata": {},
   "source": [
    "### Overview of Data"
   ]
  },
  {
   "cell_type": "code",
   "execution_count": 6,
   "id": "98df7f1d",
   "metadata": {},
   "outputs": [
    {
     "name": "stdout",
     "output_type": "stream",
     "text": [
      "<class 'pandas.core.frame.DataFrame'>\n",
      "Int64Index: 437 entries, 117 to 0\n",
      "Data columns (total 9 columns):\n",
      " #   Column                      Non-Null Count  Dtype  \n",
      "---  ------                      --------------  -----  \n",
      " 0   Country                     437 non-null    object \n",
      " 1   Happiness_Rank              437 non-null    int64  \n",
      " 2   Happiness_Score             437 non-null    float64\n",
      " 3   Economy                     437 non-null    float64\n",
      " 4   Health_Life_Expectancy      437 non-null    float64\n",
      " 5   Freedom                     437 non-null    float64\n",
      " 6   Perceptions_Corruption_Gov  437 non-null    float64\n",
      " 7   Generosity                  437 non-null    float64\n",
      " 8   Year                        437 non-null    int64  \n",
      "dtypes: float64(6), int64(2), object(1)\n",
      "memory usage: 34.1+ KB\n"
     ]
    }
   ],
   "source": [
    "# Shows data at a glance\n",
    "# Key takeaway - no nulls and 9 columns including the target variable\n",
    "train.info()"
   ]
  },
  {
   "cell_type": "markdown",
   "id": "cbff51bc",
   "metadata": {},
   "source": [
    "### Data Summary"
   ]
  },
  {
   "cell_type": "code",
   "execution_count": 7,
   "id": "1ff8b9cb",
   "metadata": {},
   "outputs": [
    {
     "data": {
      "text/html": [
       "<div>\n",
       "<style scoped>\n",
       "    .dataframe tbody tr th:only-of-type {\n",
       "        vertical-align: middle;\n",
       "    }\n",
       "\n",
       "    .dataframe tbody tr th {\n",
       "        vertical-align: top;\n",
       "    }\n",
       "\n",
       "    .dataframe thead th {\n",
       "        text-align: right;\n",
       "    }\n",
       "</style>\n",
       "<table border=\"1\" class=\"dataframe\">\n",
       "  <thead>\n",
       "    <tr style=\"text-align: right;\">\n",
       "      <th></th>\n",
       "      <th>Happiness_Rank</th>\n",
       "      <th>Happiness_Score</th>\n",
       "      <th>Economy</th>\n",
       "      <th>Health_Life_Expectancy</th>\n",
       "      <th>Freedom</th>\n",
       "      <th>Perceptions_Corruption_Gov</th>\n",
       "      <th>Generosity</th>\n",
       "      <th>Year</th>\n",
       "    </tr>\n",
       "  </thead>\n",
       "  <tbody>\n",
       "    <tr>\n",
       "      <th>count</th>\n",
       "      <td>437.000000</td>\n",
       "      <td>437.000000</td>\n",
       "      <td>437.000000</td>\n",
       "      <td>437.000000</td>\n",
       "      <td>437.000000</td>\n",
       "      <td>437.000000</td>\n",
       "      <td>437.000000</td>\n",
       "      <td>437.000000</td>\n",
       "    </tr>\n",
       "    <tr>\n",
       "      <th>mean</th>\n",
       "      <td>77.837529</td>\n",
       "      <td>5.401465</td>\n",
       "      <td>0.917545</td>\n",
       "      <td>0.613893</td>\n",
       "      <td>0.411162</td>\n",
       "      <td>0.127307</td>\n",
       "      <td>0.221546</td>\n",
       "      <td>2016.983982</td>\n",
       "    </tr>\n",
       "    <tr>\n",
       "      <th>std</th>\n",
       "      <td>45.490635</td>\n",
       "      <td>1.129680</td>\n",
       "      <td>0.423243</td>\n",
       "      <td>0.252466</td>\n",
       "      <td>0.151789</td>\n",
       "      <td>0.107628</td>\n",
       "      <td>0.128605</td>\n",
       "      <td>1.423015</td>\n",
       "    </tr>\n",
       "    <tr>\n",
       "      <th>min</th>\n",
       "      <td>1.000000</td>\n",
       "      <td>2.839000</td>\n",
       "      <td>0.000000</td>\n",
       "      <td>0.000000</td>\n",
       "      <td>0.000000</td>\n",
       "      <td>0.000000</td>\n",
       "      <td>0.000000</td>\n",
       "      <td>2015.000000</td>\n",
       "    </tr>\n",
       "    <tr>\n",
       "      <th>25%</th>\n",
       "      <td>40.000000</td>\n",
       "      <td>4.508000</td>\n",
       "      <td>0.593250</td>\n",
       "      <td>0.428640</td>\n",
       "      <td>0.312000</td>\n",
       "      <td>0.054000</td>\n",
       "      <td>0.130000</td>\n",
       "      <td>2016.000000</td>\n",
       "    </tr>\n",
       "    <tr>\n",
       "      <th>50%</th>\n",
       "      <td>75.000000</td>\n",
       "      <td>5.401000</td>\n",
       "      <td>0.987000</td>\n",
       "      <td>0.650785</td>\n",
       "      <td>0.434000</td>\n",
       "      <td>0.092700</td>\n",
       "      <td>0.202000</td>\n",
       "      <td>2017.000000</td>\n",
       "    </tr>\n",
       "    <tr>\n",
       "      <th>75%</th>\n",
       "      <td>119.000000</td>\n",
       "      <td>6.182000</td>\n",
       "      <td>1.252785</td>\n",
       "      <td>0.810696</td>\n",
       "      <td>0.523000</td>\n",
       "      <td>0.162000</td>\n",
       "      <td>0.285000</td>\n",
       "      <td>2018.000000</td>\n",
       "    </tr>\n",
       "    <tr>\n",
       "      <th>max</th>\n",
       "      <td>158.000000</td>\n",
       "      <td>7.594000</td>\n",
       "      <td>2.096000</td>\n",
       "      <td>1.088000</td>\n",
       "      <td>0.724000</td>\n",
       "      <td>0.551910</td>\n",
       "      <td>0.838075</td>\n",
       "      <td>2019.000000</td>\n",
       "    </tr>\n",
       "  </tbody>\n",
       "</table>\n",
       "</div>"
      ],
      "text/plain": [
       "       Happiness_Rank  Happiness_Score     Economy  Health_Life_Expectancy  \\\n",
       "count      437.000000       437.000000  437.000000              437.000000   \n",
       "mean        77.837529         5.401465    0.917545                0.613893   \n",
       "std         45.490635         1.129680    0.423243                0.252466   \n",
       "min          1.000000         2.839000    0.000000                0.000000   \n",
       "25%         40.000000         4.508000    0.593250                0.428640   \n",
       "50%         75.000000         5.401000    0.987000                0.650785   \n",
       "75%        119.000000         6.182000    1.252785                0.810696   \n",
       "max        158.000000         7.594000    2.096000                1.088000   \n",
       "\n",
       "          Freedom  Perceptions_Corruption_Gov  Generosity         Year  \n",
       "count  437.000000                  437.000000  437.000000   437.000000  \n",
       "mean     0.411162                    0.127307    0.221546  2016.983982  \n",
       "std      0.151789                    0.107628    0.128605     1.423015  \n",
       "min      0.000000                    0.000000    0.000000  2015.000000  \n",
       "25%      0.312000                    0.054000    0.130000  2016.000000  \n",
       "50%      0.434000                    0.092700    0.202000  2017.000000  \n",
       "75%      0.523000                    0.162000    0.285000  2018.000000  \n",
       "max      0.724000                    0.551910    0.838075  2019.000000  "
      ]
     },
     "execution_count": 7,
     "metadata": {},
     "output_type": "execute_result"
    }
   ],
   "source": [
    "# We can see an important key take away which is the average/mean of the Happiness Score.\n",
    "train.describe()"
   ]
  },
  {
   "cell_type": "markdown",
   "id": "99edb50c",
   "metadata": {},
   "source": [
    "### Explore Data"
   ]
  },
  {
   "cell_type": "markdown",
   "id": "892514ed",
   "metadata": {},
   "source": [
    "### What is average score for Happiness over the 5 year span?"
   ]
  },
  {
   "cell_type": "code",
   "execution_count": 8,
   "id": "37827965",
   "metadata": {},
   "outputs": [
    {
     "name": "stdout",
     "output_type": "stream",
     "text": [
      "The average Happiness Score is 5.40\n"
     ]
    }
   ],
   "source": [
    "# Returns the baseline = average/mean of the Happiness Score\n",
    "baseline = train.Happiness_Score.mean()\n",
    "print(f'The average Happiness Score is {baseline:.2f}')"
   ]
  },
  {
   "cell_type": "code",
   "execution_count": 9,
   "id": "aed5ec48",
   "metadata": {},
   "outputs": [],
   "source": [
    "# Setting up for predictions\n",
    "train_predictions, validate_predictions, test_predictions = mh.predict(train, validate, test)"
   ]
  },
  {
   "cell_type": "markdown",
   "id": "8094fd53",
   "metadata": {},
   "source": [
    "### Statistical Tests"
   ]
  },
  {
   "cell_type": "markdown",
   "id": "a2688365",
   "metadata": {},
   "source": [
    "**I will now use a pearsonsr statistical test to investigate whether feature listed and happiness score are correlated** \n",
    "\n",
    "* I will use a confidence interval of 95% \n",
    "* The resulting alpha is .05<br>\n",
    "\n",
    "${H_0}$: There is **no** relationship between feature listed and happiness score.\n",
    "\n",
    "${H_a}$: There **is** a relationship between feature listed and happiness score."
   ]
  },
  {
   "cell_type": "code",
   "execution_count": 10,
   "id": "fdae03d8",
   "metadata": {},
   "outputs": [],
   "source": [
    "# creates dataframe for statistical results\n",
    "results_stats_df = eh.make_stats_df()"
   ]
  },
  {
   "cell_type": "code",
   "execution_count": 11,
   "id": "757f04b9",
   "metadata": {},
   "outputs": [],
   "source": [
    "# retrieves results and reads them to dataframe\n",
    "results_stats_df = eh.get_results(train, results_stats_df)"
   ]
  },
  {
   "cell_type": "code",
   "execution_count": 12,
   "id": "0856acd9",
   "metadata": {},
   "outputs": [
    {
     "data": {
      "text/html": [
       "<div>\n",
       "<style scoped>\n",
       "    .dataframe tbody tr th:only-of-type {\n",
       "        vertical-align: middle;\n",
       "    }\n",
       "\n",
       "    .dataframe tbody tr th {\n",
       "        vertical-align: top;\n",
       "    }\n",
       "\n",
       "    .dataframe thead th {\n",
       "        text-align: right;\n",
       "    }\n",
       "</style>\n",
       "<table border=\"1\" class=\"dataframe\">\n",
       "  <thead>\n",
       "    <tr style=\"text-align: right;\">\n",
       "      <th></th>\n",
       "      <th>Index Scores</th>\n",
       "      <th>Health</th>\n",
       "      <th>Year</th>\n",
       "      <th>Generosity</th>\n",
       "      <th>Economy</th>\n",
       "      <th>Freedom</th>\n",
       "      <th>Perceptions of Corruption</th>\n",
       "    </tr>\n",
       "  </thead>\n",
       "  <tbody>\n",
       "    <tr>\n",
       "      <th>0</th>\n",
       "      <td>PearsonsR</td>\n",
       "      <td>0.740978</td>\n",
       "      <td>0.04726</td>\n",
       "      <td>0.140445</td>\n",
       "      <td>0.784104</td>\n",
       "      <td>0.570145</td>\n",
       "      <td>0.391867</td>\n",
       "    </tr>\n",
       "    <tr>\n",
       "      <th>1</th>\n",
       "      <td>P-Value</td>\n",
       "      <td>0.0</td>\n",
       "      <td>0.324294</td>\n",
       "      <td>0.00326</td>\n",
       "      <td>0.0</td>\n",
       "      <td>0.0</td>\n",
       "      <td>0.0</td>\n",
       "    </tr>\n",
       "    <tr>\n",
       "      <th>2</th>\n",
       "      <td>Outcome</td>\n",
       "      <td>We reject the null hypothesis</td>\n",
       "      <td>We fail to reject the null hypothesis</td>\n",
       "      <td>We reject the null hypothesis</td>\n",
       "      <td>We reject the null hypothesis</td>\n",
       "      <td>We reject the null hypothesis</td>\n",
       "      <td>We reject the null hypothesis</td>\n",
       "    </tr>\n",
       "  </tbody>\n",
       "</table>\n",
       "</div>"
      ],
      "text/plain": [
       "  Index Scores                         Health  \\\n",
       "0    PearsonsR                       0.740978   \n",
       "1      P-Value                            0.0   \n",
       "2      Outcome  We reject the null hypothesis   \n",
       "\n",
       "                                    Year                     Generosity  \\\n",
       "0                                0.04726                       0.140445   \n",
       "1                               0.324294                        0.00326   \n",
       "2  We fail to reject the null hypothesis  We reject the null hypothesis   \n",
       "\n",
       "                         Economy                        Freedom  \\\n",
       "0                       0.784104                       0.570145   \n",
       "1                            0.0                            0.0   \n",
       "2  We reject the null hypothesis  We reject the null hypothesis   \n",
       "\n",
       "       Perceptions of Corruption  \n",
       "0                       0.391867  \n",
       "1                            0.0  \n",
       "2  We reject the null hypothesis  "
      ]
     },
     "execution_count": 12,
     "metadata": {},
     "output_type": "execute_result"
    }
   ],
   "source": [
    "# visual of results\n",
    "results_stats_df"
   ]
  },
  {
   "cell_type": "markdown",
   "id": "e0ecf177",
   "metadata": {},
   "source": [
    "### Exploration Summary\n",
    "\n",
    "* PearsonsR statistical tests supported significance amongst the relationships between the 5 of the six features.  \n",
    "\n",
    "### Creating predictive models\n",
    "\n",
    "#### Features included: \n",
    "Features that had the most significance in relationship to the target variable are most likely going to model the best predictive power.\n",
    "\n",
    "    * Health\n",
    "    * Generosity\n",
    "    * Economy\n",
    "    * Freedom\n",
    "    * Percetions of Corruption \n",
    "\n",
    "#### Features not included:\n",
    "Feature had the weakest relationship to the target variable.\n",
    "    \n",
    "    * Year"
   ]
  },
  {
   "cell_type": "markdown",
   "id": "664f0f9e",
   "metadata": {},
   "source": [
    "## Modeling\n",
    "### Simple Linear Regression Model"
   ]
  },
  {
   "cell_type": "code",
   "execution_count": 13,
   "id": "8e96c783",
   "metadata": {},
   "outputs": [],
   "source": [
    "# fits the model on train and validate\n",
    "train, train_predictions, validate, validate_predictions = mh.simple_lm_model(train, x_train, y_train, validate, x_validate, train_predictions, validate_predictions)"
   ]
  },
  {
   "cell_type": "markdown",
   "id": "029f19de",
   "metadata": {},
   "source": [
    "### Generalized Linear Regression Model"
   ]
  },
  {
   "cell_type": "code",
   "execution_count": 14,
   "id": "031d3b50",
   "metadata": {},
   "outputs": [],
   "source": [
    "# fits the model on train and validate\n",
    "train, train_predictions, validate, validate_predictions = mh.glm_model(train, x_train, y_train, validate, x_validate, train_predictions, validate_predictions)"
   ]
  },
  {
   "cell_type": "code",
   "execution_count": 15,
   "id": "bb2f2dcd",
   "metadata": {},
   "outputs": [
    {
     "data": {
      "text/html": [
       "<div>\n",
       "<style scoped>\n",
       "    .dataframe tbody tr th:only-of-type {\n",
       "        vertical-align: middle;\n",
       "    }\n",
       "\n",
       "    .dataframe tbody tr th {\n",
       "        vertical-align: top;\n",
       "    }\n",
       "\n",
       "    .dataframe thead th {\n",
       "        text-align: right;\n",
       "    }\n",
       "</style>\n",
       "<table border=\"1\" class=\"dataframe\">\n",
       "  <thead>\n",
       "    <tr style=\"text-align: right;\">\n",
       "      <th></th>\n",
       "      <th>Happiness_Score</th>\n",
       "      <th>Baseline</th>\n",
       "      <th>lm_predictions</th>\n",
       "      <th>glm_predictions</th>\n",
       "    </tr>\n",
       "  </thead>\n",
       "  <tbody>\n",
       "    <tr>\n",
       "      <th>117</th>\n",
       "      <td>4.465</td>\n",
       "      <td>5.401465</td>\n",
       "      <td>5.119084</td>\n",
       "      <td>5.427748</td>\n",
       "    </tr>\n",
       "    <tr>\n",
       "      <th>71</th>\n",
       "      <td>5.504</td>\n",
       "      <td>5.401465</td>\n",
       "      <td>5.112611</td>\n",
       "      <td>5.314086</td>\n",
       "    </tr>\n",
       "    <tr>\n",
       "      <th>84</th>\n",
       "      <td>5.254</td>\n",
       "      <td>5.401465</td>\n",
       "      <td>5.284811</td>\n",
       "      <td>5.367115</td>\n",
       "    </tr>\n",
       "    <tr>\n",
       "      <th>3</th>\n",
       "      <td>7.522</td>\n",
       "      <td>5.401465</td>\n",
       "      <td>7.098599</td>\n",
       "      <td>5.647168</td>\n",
       "    </tr>\n",
       "    <tr>\n",
       "      <th>42</th>\n",
       "      <td>6.071</td>\n",
       "      <td>5.401465</td>\n",
       "      <td>5.343723</td>\n",
       "      <td>5.358461</td>\n",
       "    </tr>\n",
       "  </tbody>\n",
       "</table>\n",
       "</div>"
      ],
      "text/plain": [
       "     Happiness_Score  Baseline  lm_predictions  glm_predictions\n",
       "117            4.465  5.401465        5.119084         5.427748\n",
       "71             5.504  5.401465        5.112611         5.314086\n",
       "84             5.254  5.401465        5.284811         5.367115\n",
       "3              7.522  5.401465        7.098599         5.647168\n",
       "42             6.071  5.401465        5.343723         5.358461"
      ]
     },
     "execution_count": 15,
     "metadata": {},
     "output_type": "execute_result"
    }
   ],
   "source": [
    "# a glance at the predictions\n",
    "train_predictions.head()"
   ]
  },
  {
   "cell_type": "markdown",
   "id": "b59e1d10",
   "metadata": {},
   "source": [
    "### Evaluate"
   ]
  },
  {
   "cell_type": "code",
   "execution_count": 17,
   "id": "f04a3c1b",
   "metadata": {},
   "outputs": [],
   "source": [
    "# creates evaluation dataframe\n",
    "evaluate_df = mh.make_stats_df()"
   ]
  },
  {
   "cell_type": "code",
   "execution_count": 18,
   "id": "4f26dbca",
   "metadata": {},
   "outputs": [],
   "source": [
    "# reads results of evaluations to dataframe\n",
    "evaluate_df = mh.final_eval(train, validate, evaluate_df)"
   ]
  },
  {
   "cell_type": "code",
   "execution_count": 19,
   "id": "d5e1ba0f",
   "metadata": {},
   "outputs": [
    {
     "data": {
      "text/html": [
       "<div>\n",
       "<style scoped>\n",
       "    .dataframe tbody tr th:only-of-type {\n",
       "        vertical-align: middle;\n",
       "    }\n",
       "\n",
       "    .dataframe tbody tr th {\n",
       "        vertical-align: top;\n",
       "    }\n",
       "\n",
       "    .dataframe thead th {\n",
       "        text-align: right;\n",
       "    }\n",
       "</style>\n",
       "<table border=\"1\" class=\"dataframe\">\n",
       "  <thead>\n",
       "    <tr style=\"text-align: right;\">\n",
       "      <th></th>\n",
       "      <th>models</th>\n",
       "      <th>RMSE</th>\n",
       "    </tr>\n",
       "  </thead>\n",
       "  <tbody>\n",
       "    <tr>\n",
       "      <th>0</th>\n",
       "      <td>Baseline Train</td>\n",
       "      <td>1.116563</td>\n",
       "    </tr>\n",
       "    <tr>\n",
       "      <th>1</th>\n",
       "      <td>SimpleLinear Train</td>\n",
       "      <td>0.562486</td>\n",
       "    </tr>\n",
       "    <tr>\n",
       "      <th>2</th>\n",
       "      <td>GeneralizedLinear Train</td>\n",
       "      <td>0.990515</td>\n",
       "    </tr>\n",
       "    <tr>\n",
       "      <th>3</th>\n",
       "      <td>Baseline Validate</td>\n",
       "      <td>1.116563</td>\n",
       "    </tr>\n",
       "    <tr>\n",
       "      <th>4</th>\n",
       "      <td>SimpleLinear Validate</td>\n",
       "      <td>0.593547</td>\n",
       "    </tr>\n",
       "    <tr>\n",
       "      <th>5</th>\n",
       "      <td>GeneralizedLinear Validate</td>\n",
       "      <td>0.987753</td>\n",
       "    </tr>\n",
       "  </tbody>\n",
       "</table>\n",
       "</div>"
      ],
      "text/plain": [
       "                       models      RMSE\n",
       "0              Baseline Train  1.116563\n",
       "1          SimpleLinear Train  0.562486\n",
       "2     GeneralizedLinear Train  0.990515\n",
       "3           Baseline Validate  1.116563\n",
       "4       SimpleLinear Validate  0.593547\n",
       "5  GeneralizedLinear Validate  0.987753"
      ]
     },
     "execution_count": 19,
     "metadata": {},
     "output_type": "execute_result"
    }
   ],
   "source": [
    "evaluate_df"
   ]
  },
  {
   "cell_type": "markdown",
   "id": "d70d9fd2",
   "metadata": {},
   "source": [
    "### Modeling Summary\n",
    "\n",
    "* The SimpleLinear Regression Model out-performed other models on train and validate data sets \n",
    "    * .5625\n",
    "    * .5935\n",
    "    \n",
    "* The GeneralizedLinear Regression Model only out-performed baseline models\n",
    "    * .9905\n",
    "    * .9877\n",
    "    \n",
    "* The ideal model is expected to have the lowest RMSE in comparison.\n",
    "    * For this reason SimpleLinear model will now be fit to the test data set "
   ]
  },
  {
   "cell_type": "markdown",
   "id": "2829a571",
   "metadata": {},
   "source": [
    "### Simple Model on Test"
   ]
  },
  {
   "cell_type": "code",
   "execution_count": 20,
   "id": "1a39888a",
   "metadata": {},
   "outputs": [],
   "source": [
    "# fits the model on test dataset\n",
    "test, test_predictions, validate, validate_predictions = mh.test_lm_model(test, x_test, y_test, validate, x_validate, test_predictions, validate_predictions)"
   ]
  },
  {
   "cell_type": "code",
   "execution_count": 22,
   "id": "e2f36d52",
   "metadata": {},
   "outputs": [
    {
     "data": {
      "text/html": [
       "<div>\n",
       "<style scoped>\n",
       "    .dataframe tbody tr th:only-of-type {\n",
       "        vertical-align: middle;\n",
       "    }\n",
       "\n",
       "    .dataframe tbody tr th {\n",
       "        vertical-align: top;\n",
       "    }\n",
       "\n",
       "    .dataframe thead th {\n",
       "        text-align: right;\n",
       "    }\n",
       "</style>\n",
       "<table border=\"1\" class=\"dataframe\">\n",
       "  <thead>\n",
       "    <tr style=\"text-align: right;\">\n",
       "      <th></th>\n",
       "      <th>models</th>\n",
       "      <th>RMSE</th>\n",
       "    </tr>\n",
       "  </thead>\n",
       "  <tbody>\n",
       "    <tr>\n",
       "      <th>0</th>\n",
       "      <td>Baseline Train</td>\n",
       "      <td>1.116563</td>\n",
       "    </tr>\n",
       "    <tr>\n",
       "      <th>1</th>\n",
       "      <td>SimpleLinear Train</td>\n",
       "      <td>0.562486</td>\n",
       "    </tr>\n",
       "    <tr>\n",
       "      <th>2</th>\n",
       "      <td>GeneralizedLinear Train</td>\n",
       "      <td>0.990515</td>\n",
       "    </tr>\n",
       "    <tr>\n",
       "      <th>3</th>\n",
       "      <td>Baseline Validate</td>\n",
       "      <td>1.116563</td>\n",
       "    </tr>\n",
       "    <tr>\n",
       "      <th>4</th>\n",
       "      <td>SimpleLinear Validate</td>\n",
       "      <td>0.593547</td>\n",
       "    </tr>\n",
       "    <tr>\n",
       "      <th>5</th>\n",
       "      <td>GeneralizedLinear Validate</td>\n",
       "      <td>0.987753</td>\n",
       "    </tr>\n",
       "    <tr>\n",
       "      <th>6</th>\n",
       "      <td>SimpleLinear Test</td>\n",
       "      <td>0.294145</td>\n",
       "    </tr>\n",
       "  </tbody>\n",
       "</table>\n",
       "</div>"
      ],
      "text/plain": [
       "                       models      RMSE\n",
       "0              Baseline Train  1.116563\n",
       "1          SimpleLinear Train  0.562486\n",
       "2     GeneralizedLinear Train  0.990515\n",
       "3           Baseline Validate  1.116563\n",
       "4       SimpleLinear Validate  0.593547\n",
       "5  GeneralizedLinear Validate  0.987753\n",
       "6           SimpleLinear Test  0.294145"
      ]
     },
     "execution_count": 22,
     "metadata": {},
     "output_type": "execute_result"
    }
   ],
   "source": [
    "# Adding the test results to compare \n",
    "evaluate_df = evaluate_df.append({\n",
    "    'models': 'SimpleLinear Test', \n",
    "    'RMSE': mean_squared_error(test_predictions.Happiness_Score, test_predictions.lm_predictions),\n",
    "    }, ignore_index=True)\n",
    "evaluate_df"
   ]
  },
  {
   "cell_type": "markdown",
   "id": "d1ab9e63",
   "metadata": {},
   "source": [
    "### Conclusions\n",
    "* SimpleLinear Regression model RMSE scores:\n",
    "\n",
    "        * 0.562486 on training data samples\n",
    "        * 0.593547 on validate data samples\n",
    "        * 0.294145 on test data samples\n",
    "#### Key TakeAway:\n",
    "    SimpleLinear Regression model was successful on all train, validate and test data sets. \n",
    "\n",
    "### Recommendations\n",
    "\n",
    "   * Consider age of persons contributing as a feature  \n",
    "   * Consider gender of persons contributing as a feature\n",
    "   * Consider gathering data seasonally"
   ]
  }
 ],
 "metadata": {
  "kernelspec": {
   "display_name": "Python 3 (ipykernel)",
   "language": "python",
   "name": "python3"
  },
  "language_info": {
   "codemirror_mode": {
    "name": "ipython",
    "version": 3
   },
   "file_extension": ".py",
   "mimetype": "text/x-python",
   "name": "python",
   "nbconvert_exporter": "python",
   "pygments_lexer": "ipython3",
   "version": "3.9.12"
  }
 },
 "nbformat": 4,
 "nbformat_minor": 5
}
